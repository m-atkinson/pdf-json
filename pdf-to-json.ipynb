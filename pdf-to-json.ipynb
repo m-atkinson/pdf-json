{
 "cells": [
  {
   "cell_type": "markdown",
   "metadata": {},
   "source": [
    "## Libraries needed"
   ]
  },
  {
   "cell_type": "code",
   "execution_count": 1,
   "metadata": {},
   "outputs": [],
   "source": [
    "import PyPDF2\n",
    "import json\n",
    "import requests\n",
    "from io import BytesIO\n",
    "# %%\n"
   ]
  },
  {
   "cell_type": "markdown",
   "metadata": {},
   "source": [
    "## Function "
   ]
  },
  {
   "cell_type": "code",
   "execution_count": null,
   "metadata": {},
   "outputs": [],
   "source": [
    "def pdf_to_json_from_url(pdf_url, json_file_path):\n",
    "    # Fetch the PDF file from the URL\n",
    "    response = requests.get(pdf_url)\n",
    "    response.raise_for_status()  # This will raise an error if the download failed\n",
    "\n",
    "    # Read the PDF from a bytes stream\n",
    "    with BytesIO(response.content) as file:\n",
    "        pdf = PyPDF2.PdfReader(file)\n",
    "        num_pages = len(pdf.pages)\n",
    "\n",
    "        # Extract text from each page\n",
    "        data = {}\n",
    "        for i in range(num_pages):\n",
    "            text = pdf.pages[i].extract_text()\n",
    "            data[f'page_{i + 1}'] = text\n",
    "\n",
    "        # Convert to JSON\n",
    "        json_data = json.dumps(data, indent=4)\n",
    "\n",
    "        # Save to a JSON file\n",
    "        with open(json_file_path, 'w') as json_file:\n",
    "            json_file.write(json_data)\n"
   ]
  },
  {
   "cell_type": "markdown",
   "metadata": {},
   "source": [
    "## Example usage"
   ]
  },
  {
   "cell_type": "code",
   "execution_count": null,
   "metadata": {},
   "outputs": [],
   "source": [
    "pdf_url = 'https://8813884.fs1.hubspotusercontent-na1.net/hubfs/8813884/cs_csstdy_rhode-island-state-agencies-grants-system-integration-sell-sheet_082523_v1.0.pdf'\n",
    "json_file_path = '/Users/matthewatkinson/Desktop/dsci/pdf_extractor/output5.json' # Update this path as needed\n",
    "pdf_to_json_from_url(pdf_url, json_file_path)"
   ]
  }
 ],
 "metadata": {
  "kernelspec": {
   "display_name": "base",
   "language": "python",
   "name": "python3"
  },
  "language_info": {
   "codemirror_mode": {
    "name": "ipython",
    "version": 3
   },
   "file_extension": ".py",
   "mimetype": "text/x-python",
   "name": "python",
   "nbconvert_exporter": "python",
   "pygments_lexer": "ipython3",
   "version": "3.9.13"
  }
 },
 "nbformat": 4,
 "nbformat_minor": 2
}
